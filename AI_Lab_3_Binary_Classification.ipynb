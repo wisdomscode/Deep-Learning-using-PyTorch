{
  "nbformat": 4,
  "nbformat_minor": 0,
  "metadata": {
    "colab": {
      "provenance": [],
      "toc_visible": true,
      "gpuType": "T4",
      "authorship_tag": "ABX9TyOO7k4ReVjI2bitY8gewy9I",
      "include_colab_link": true
    },
    "kernelspec": {
      "name": "python3",
      "display_name": "Python 3"
    },
    "language_info": {
      "name": "python"
    },
    "accelerator": "GPU"
  },
  "cells": [
    {
      "cell_type": "markdown",
      "metadata": {
        "id": "view-in-github",
        "colab_type": "text"
      },
      "source": [
        "<a href=\"https://colab.research.google.com/github/wisdomscode/Deep-Learning-using-PyTorch/blob/main/AI_Lab_3_Binary_Classification.ipynb\" target=\"_parent\"><img src=\"https://colab.research.google.com/assets/colab-badge.svg\" alt=\"Open In Colab\"/></a>"
      ]
    },
    {
      "cell_type": "markdown",
      "source": [
        "# Introduction"
      ],
      "metadata": {
        "id": "vh8HIkCtWx5-"
      }
    },
    {
      "cell_type": "markdown",
      "source": [
        "We will build our very first neural network model. We'll use this model to classify if a wildlife camera image shows a hog or not."
      ],
      "metadata": {
        "id": "MHRINpH-W0A3"
      }
    },
    {
      "cell_type": "markdown",
      "source": [
        "**Objectives:**\n",
        "\n",
        "* Convert images from grayscale to RGB\n",
        "* Resizes images\n",
        "* Create a transformation pipeline to standardize images for training\n",
        "* Build and train a simple neural network model in PyTorch\n",
        "* Save our trained neural network to disk"
      ],
      "metadata": {
        "id": "VaGF62YwX6w2"
      }
    },
    {
      "cell_type": "markdown",
      "source": [
        "**New Terms:**\n",
        "\n",
        "* Activation function\n",
        "* Automatic differentiation\n",
        "* Backpropagation\n",
        "* Binary classification\n",
        "* Cross-entropy\n",
        "* Epoch\n",
        "* Layers\n",
        "* Logits\n",
        "* Optimizer"
      ],
      "metadata": {
        "id": "jPMzdch3YGDe"
      }
    },
    {
      "cell_type": "markdown",
      "source": [],
      "metadata": {
        "id": "uuKuQ91zYcMl"
      }
    },
    {
      "cell_type": "code",
      "source": [
        "import os\n",
        "import sys\n",
        "from collections import Counter\n",
        "\n",
        "import cv2\n",
        "import matplotlib\n",
        "import matplotlib.pyplot as plt\n",
        "import numpy as np\n",
        "import pandas as pd\n",
        "import PIL\n",
        "import sklearn\n",
        "import torch\n",
        "import torch.nn as nn\n",
        "import torch.nn.functional as F\n",
        "import torch.optim as optim\n",
        "import torchinfo\n",
        "import torchvision\n",
        "from PIL import Image\n",
        "from sklearn.metrics import ConfusionMatrixDisplay, confusion_matrix\n",
        "from torch.utils.data import DataLoader, random_split\n",
        "from torchinfo import summary\n",
        "from torchvision import datasets, transforms\n",
        "from tqdm.notebook import tqdm\n",
        "from tqdm.version import __version__ as tqdm__version__\n",
        "\n",
        "torch.backends.cudnn.deterministic = True"
      ],
      "metadata": {
        "id": "U_2EMy_C9fJk"
      },
      "execution_count": 3,
      "outputs": []
    },
    {
      "cell_type": "code",
      "source": [
        "!pip install torchinfo"
      ],
      "metadata": {
        "colab": {
          "base_uri": "https://localhost:8080/"
        },
        "id": "T0TbtVzt-bxs",
        "outputId": "9cd2460c-52ea-4d6d-ccc2-ccb236f0a5f3"
      },
      "execution_count": 2,
      "outputs": [
        {
          "output_type": "stream",
          "name": "stdout",
          "text": [
            "Collecting torchinfo\n",
            "  Downloading torchinfo-1.8.0-py3-none-any.whl.metadata (21 kB)\n",
            "Downloading torchinfo-1.8.0-py3-none-any.whl (23 kB)\n",
            "Installing collected packages: torchinfo\n",
            "Successfully installed torchinfo-1.8.0\n"
          ]
        }
      ]
    },
    {
      "cell_type": "markdown",
      "source": [
        "To test our imports"
      ],
      "metadata": {
        "id": "vvvxuYSY9e7d"
      }
    },
    {
      "cell_type": "code",
      "source": [
        "print(\"Platform:\", sys.platform)\n",
        "print(\"Python version:\", sys.version)\n",
        "print(\"---\")\n",
        "print(\"CV2 version : \", cv2.__version__)\n",
        "print(\"matplotlib version : \", matplotlib.__version__)\n",
        "print(\"numpy version : \", np.__version__)\n",
        "print(\"torch version : \", torch.__version__)\n",
        "print(\"torchinfo version : \", torchinfo.__version__)\n",
        "print(\"torchvision version : \", torchvision.__version__)\n",
        "print(\"PIL version : \", PIL.__version__)\n",
        "print(\"scikit-learn version: \", sklearn.__version__)\n",
        "print(\"tqdm version: \", tqdm__version__)"
      ],
      "metadata": {
        "colab": {
          "base_uri": "https://localhost:8080/"
        },
        "id": "kJ6lYi0a9qZ8",
        "outputId": "2cb43d22-4b1a-4a0b-f219-0d08d047d81f"
      },
      "execution_count": 4,
      "outputs": [
        {
          "output_type": "stream",
          "name": "stdout",
          "text": [
            "Platform: linux\n",
            "Python version: 3.11.11 (main, Dec  4 2024, 08:55:07) [GCC 11.4.0]\n",
            "---\n",
            "CV2 version :  4.11.0\n",
            "matplotlib version :  3.10.0\n",
            "numpy version :  1.26.4\n",
            "torch version :  2.5.1+cu124\n",
            "torchinfo version :  1.8.0\n",
            "torchvision version :  0.20.1+cu124\n",
            "PIL version :  11.1.0\n",
            "scikit-learn version:  1.6.1\n",
            "tqdm version:  4.67.1\n"
          ]
        }
      ]
    },
    {
      "cell_type": "markdown",
      "source": [
        "To check if GPUs are available"
      ],
      "metadata": {
        "id": "WmuvSD74-qhE"
      }
    },
    {
      "cell_type": "code",
      "source": [
        "if torch.cuda.is_available():\n",
        "    device = \"cuda\"\n",
        "elif torch.backends.mps.is_available():\n",
        "    device = \"mps\"\n",
        "else:\n",
        "    device = \"cpu\"\n",
        "\n",
        "print(f\"Using {device} device.\")"
      ],
      "metadata": {
        "colab": {
          "base_uri": "https://localhost:8080/"
        },
        "id": "QqtKS-BP-wgM",
        "outputId": "235fa73e-7102-4a64-8d3a-986e8c9560db"
      },
      "execution_count": 5,
      "outputs": [
        {
          "output_type": "stream",
          "name": "stdout",
          "text": [
            "Using cuda device.\n"
          ]
        }
      ]
    },
    {
      "cell_type": "markdown",
      "source": [
        "# Exploring Data"
      ],
      "metadata": {
        "id": "cgM5d2Om_Gje"
      }
    },
    {
      "cell_type": "markdown",
      "source": [
        "Our goal is to build a model that can identify wildlife in photos taken by automated surveillance systems, also called \"camera traps.\""
      ],
      "metadata": {
        "id": "204zDPDR_Je0"
      }
    },
    {
      "cell_type": "markdown",
      "source": [
        "It assumed we have the data in our data file.\n",
        "\n",
        "We have our train data folder in\n",
        "data_p1/data_binary/train\n",
        "\n",
        "inside of which we have blank and hog folders"
      ],
      "metadata": {
        "id": "ttYdUSb-_RKc"
      }
    },
    {
      "cell_type": "markdown",
      "source": [
        "Task 1.3.1: Assign train_dir the path to the training data."
      ],
      "metadata": {
        "id": "Mx8NKw6SEiSE"
      }
    },
    {
      "cell_type": "code",
      "source": [
        "data_dir = os.path.join(\"data_p1\", \"data_binary\")\n",
        "train_dir = os.path.join(data_dir, \"train\")\n",
        "\n",
        "print(\"Data Directory:\", data_dir)\n",
        "print(\"Training Data Directory:\", train_dir)"
      ],
      "metadata": {
        "id": "DDD3iNO-ERlN"
      },
      "execution_count": null,
      "outputs": []
    },
    {
      "cell_type": "markdown",
      "source": [
        "List the items inside the train folder, we use listdir"
      ],
      "metadata": {
        "id": "Dy6Or8GSFTOF"
      }
    },
    {
      "cell_type": "code",
      "source": [
        "labels = os.listdir(train_dir)\n",
        "labels\n",
        "\n",
        "# output\n",
        "['hog', 'blank']"
      ],
      "metadata": {
        "id": "k6JmiIJAEZvl"
      },
      "execution_count": null,
      "outputs": []
    },
    {
      "cell_type": "markdown",
      "source": [
        "Count Items in a hog folder"
      ],
      "metadata": {
        "id": "E94n5iAdGz9F"
      }
    },
    {
      "cell_type": "code",
      "source": [
        "hog_path = os.path.join(train_dir, \"hog\")\n",
        "hog_images = os.listdir(hog_path)\n",
        "print(\"length of hog images: \", len(hog_images))\n",
        "\n",
        "# output\n",
        "length of hog images:  978\n",
        "\n"
      ],
      "metadata": {
        "id": "UZs9A4yDG5PV"
      },
      "execution_count": null,
      "outputs": []
    },
    {
      "cell_type": "markdown",
      "source": [
        "Task 1.3.2: Determine the number of blank images in the training data and assign the result to blank_images."
      ],
      "metadata": {
        "id": "EHb1yP7FGs8c"
      }
    },
    {
      "cell_type": "code",
      "source": [
        "blank_path = os.path.join(train_dir, \"blank\")\n",
        "blank_images = os.listdir(blank_path)\n",
        "print(\"length of blank images: \", len(blank_images))\n",
        "\n",
        "# outout\n",
        "length of blank images:  2213\n",
        "\n"
      ],
      "metadata": {
        "id": "MrvjCK9hG4VV"
      },
      "execution_count": null,
      "outputs": []
    },
    {
      "cell_type": "markdown",
      "source": [
        "Create a Path to individual image in the folders"
      ],
      "metadata": {
        "id": "aqHOexAtI3yd"
      }
    },
    {
      "cell_type": "markdown",
      "source": [
        "Task 1.3.3: Display the path of one image of the blank class."
      ],
      "metadata": {
        "id": "ArAzgMzJIOw-"
      }
    },
    {
      "cell_type": "code",
      "source": [
        "# get name of first image in the hog folder\n",
        "hog_image_name = hog_images[0]\n",
        "print(hog_image_name)\n",
        "\n",
        "# get the path\n",
        "hog_image_path = os.path.join(hog_path, hog_image_name)\n",
        "print(hog_image_path)\n",
        "\n",
        "# get name of first image in the blank folder\n",
        "blank_image_name = blank_images[1]\n",
        "print(blank_image_name)\n",
        "\n",
        "# get the path\n",
        "blank_image_path = os.path.join(blank_path, blank_image_name)\n",
        "print(blank_image_path)\n",
        "\n",
        "# outputs\n",
        "ZJ012491.jpg\n",
        "data_p1/data_binary/train/hog/ZJ012491.jpg\n",
        "ZJ001885.jpg\n",
        "data_p1/data_binary/train/blank/ZJ001885.jpg"
      ],
      "metadata": {
        "id": "1teofRATIh4k"
      },
      "execution_count": null,
      "outputs": []
    },
    {
      "cell_type": "markdown",
      "source": [
        "**Mode** (Color and Gray) and **Size** of Image"
      ],
      "metadata": {
        "id": "HdE3CmXxJ0se"
      }
    },
    {
      "cell_type": "markdown",
      "source": [
        "Recall how the mode describes the pixel data of the images. In the past, we've seen both grayscale and red green blue (RGB). It's also important to check out the size of the images"
      ],
      "metadata": {
        "id": "UJZj8uDMKP_t"
      }
    },
    {
      "cell_type": "markdown",
      "source": [
        "Task 1.3.4: Print out the mode and size for the blank image sample."
      ],
      "metadata": {
        "id": "IWkzTYEsKuR2"
      }
    },
    {
      "cell_type": "code",
      "source": [
        "hog_img_pil = Image.open(hog_image_path)\n",
        "print(\"Hog image: \", hog_img_pil.mode, hog_img_pil.size)\n",
        "\n",
        "blank_img_pil = Image.open(blank_image_path)\n",
        "print(\"Blank image: \", blank_img_pil.mode, blank_img_pil.size)\n",
        "\n",
        "#output\n",
        "Hog image:  L (360, 240)\n",
        "Blank image:  RGB (640, 360)"
      ],
      "metadata": {
        "id": "W66ypqGRKvMV"
      },
      "execution_count": null,
      "outputs": []
    },
    {
      "cell_type": "markdown",
      "source": [
        "To see the actual image"
      ],
      "metadata": {
        "id": "ci1NnuwALOpm"
      }
    },
    {
      "cell_type": "code",
      "source": [
        "hog_img_pil"
      ],
      "metadata": {
        "id": "K1nXu_hALSiH"
      },
      "execution_count": null,
      "outputs": []
    },
    {
      "cell_type": "code",
      "source": [
        "blank_img_pil"
      ],
      "metadata": {
        "id": "vPTD-pL_LUT1"
      },
      "execution_count": null,
      "outputs": []
    },
    {
      "cell_type": "markdown",
      "source": [
        "**Preparing Our Data**"
      ],
      "metadata": {
        "id": "Q-zyxNT4LOcF"
      }
    },
    {
      "cell_type": "markdown",
      "source": [
        "We need to make sure all of our images are in the same mode. We want to make sure they're in RGB format. If not, we'll need to convert them. In fact, our sample hog image was in grayscale, denoted by the \"L\" for its mode value. We'll create a custom transformer that will convert an image to RGB mode if it's not."
      ],
      "metadata": {
        "id": "2BPyGjqxNXJW"
      }
    },
    {
      "cell_type": "markdown",
      "source": [
        "Function to Convert image to RGB"
      ],
      "metadata": {
        "id": "eeIxk7qqNYv-"
      }
    },
    {
      "cell_type": "code",
      "source": [
        "class ConvertToRGB:\n",
        "  def __call__(self, img):\n",
        "    if img.mode != \"RGB\":\n",
        "      img = img.convert(\"RGB\")\n",
        "    return img"
      ],
      "metadata": {
        "id": "9B5x9qBuNqrV"
      },
      "execution_count": null,
      "outputs": []
    },
    {
      "cell_type": "markdown",
      "source": [
        "We're using the special method __call__ which makes it a callable class. In other words, it acts like a function. We need this method to use ConvertToRGB in our preprocessing pipeline."
      ],
      "metadata": {
        "id": "ZTavkIASOgyf"
      }
    },
    {
      "cell_type": "markdown",
      "source": [
        "Remember how we previously used utilities from the torchvision package. We'll use transforms.Compose to create a \"pipeline\" of preprocessing sets. The steps defined (in order) will be:\n",
        "* Convert image (if needed) to RGB\n",
        "* Resize the image\n",
        "* Convert the images to PyTorch tensors\n",
        "\n",
        "Afterwards, we'll load the data and apply the transformation pipeline."
      ],
      "metadata": {
        "id": "7DRXmj3GOjxm"
      }
    },
    {
      "cell_type": "markdown",
      "source": [
        "**Task 1.3.5:** Define transformation Pipeline for Image"
      ],
      "metadata": {
        "id": "NHK0HJjDPM5V"
      }
    },
    {
      "cell_type": "code",
      "source": [
        "# Define transformation to apply to the images\n",
        "transform = transforms.Compose(\n",
        "    [\n",
        "        ConvertToRGB(),  # Convert images to RGB format if not already\n",
        "        transforms.Resize((224, 224)),  # Resize images to 224x224\n",
        "        transforms.ToTensor() # Convert images to tensors\n",
        "\n",
        "    ]\n",
        ")\n",
        "\n",
        "print(type(transform))\n",
        "print(transform)\n",
        "\n",
        "# output\n",
        "<class 'torchvision.transforms.transforms.Compose'>\n",
        "Compose(\n",
        "    <__main__.ConvertToRGB object at 0x78adb9991310>\n",
        "    Resize(size=(224, 224), interpolation=bilinear, max_size=None, antialias=True)\n",
        "    ToTensor()\n",
        ")"
      ],
      "metadata": {
        "id": "wjv7cTSYPSbn"
      },
      "execution_count": null,
      "outputs": []
    },
    {
      "cell_type": "markdown",
      "source": [
        "Now we'll load the data by using datasets from the torchvision package."
      ],
      "metadata": {
        "id": "hiBp0-OqQzc9"
      }
    },
    {
      "cell_type": "code",
      "source": [
        "# Load the dataset using `ImageFolder`\n",
        "dataset = datasets.ImageFolder(root=train_dir, transform=transform)\n",
        "print(dataset)\n",
        "\n",
        "# output\n",
        "Dataset ImageFolder\n",
        "    Number of datapoints: 3191\n",
        "    Root location: data_p1/data_binary/train\n",
        "    StandardTransform\n",
        "Transform: Compose(\n",
        "               <__main__.ConvertToRGB object at 0x78adb9991310>\n",
        "               Resize(size=(224, 224), interpolation=bilinear, max_size=None, antialias=True)\n",
        "               ToTensor()\n",
        "           )"
      ],
      "metadata": {
        "id": "zZ6xu7-QRGiO"
      },
      "execution_count": null,
      "outputs": []
    },
    {
      "cell_type": "markdown",
      "source": [
        "The dataset object has the attribute .classes which returns a list of distinct classes."
      ],
      "metadata": {
        "id": "jt3QtuPkRfCO"
      }
    },
    {
      "cell_type": "code",
      "source": [
        "dataset.classes\n",
        "\n",
        "#output\n",
        "['blank', 'hog']"
      ],
      "metadata": {
        "id": "ahVXzBReRjUm"
      },
      "execution_count": null,
      "outputs": []
    },
    {
      "cell_type": "markdown",
      "source": [
        "\n",
        "\n",
        "**Prove Binary Values**\n",
        "\n",
        "\n"
      ],
      "metadata": {
        "id": "KVx5lxmVS3xf"
      }
    },
    {
      "cell_type": "markdown",
      "source": [
        "Note: The .imgs attribute is a list of tuples of path to image and label. The label value will be a number. Since we're doing binary classification, there will only be two distinct numbers. Those numbers are 0 and 1."
      ],
      "metadata": {
        "id": "1g8ONz-3TDMX"
      }
    },
    {
      "cell_type": "markdown",
      "source": [
        "**Task 1.3.6:** Prove that the only distinct values of im are 0 and 1. You should use a set data structure"
      ],
      "metadata": {
        "id": "pGa3-em7THWt"
      }
    },
    {
      "cell_type": "code",
      "source": [
        "im = dataset.imgs\n",
        "print(im[0])\n",
        "\n",
        "distinct_classes = {x[1] for x in im}\n",
        "print()\n",
        "print(distinct_classes)\n",
        "\n",
        "# output\n",
        "('data_p1/data_binary/train/blank/ZJ000013.jpg', 0)\n",
        "\n",
        "{0, 1}"
      ],
      "metadata": {
        "id": "u3mTirNxTPq2"
      },
      "execution_count": null,
      "outputs": []
    },
    {
      "cell_type": "markdown",
      "source": [
        "As we're doing supervised machine learning, we need to perform a train/validation split. A validation set is used to help choose our model when training.\n",
        "\n",
        "It's typical to use an 80/20 split (80 for training, 20 for validation). The random_split function will help us perform the split."
      ],
      "metadata": {
        "id": "7S8_70RaTO4-"
      }
    },
    {
      "cell_type": "markdown",
      "source": [
        "**To Split data into train/validation**"
      ],
      "metadata": {
        "id": "kPJFCmWIVyTh"
      }
    },
    {
      "cell_type": "code",
      "source": [
        "# Important, don't change this!\n",
        "g = torch.Generator()\n",
        "g.manual_seed(42)\n",
        "\n",
        "train_dataset, val_dataset = random_split(dataset, [0.8, 0.2], generator=g)"
      ],
      "metadata": {
        "id": "CgjR5aqHVl-u"
      },
      "execution_count": null,
      "outputs": []
    },
    {
      "cell_type": "markdown",
      "source": [
        "**Task 1.3.7:** Now let's inspect the sizes of the splits."
      ],
      "metadata": {
        "id": "BWHx2FEXVEi3"
      }
    },
    {
      "cell_type": "code",
      "source": [
        "print(f\"Length of training set: {len(train_dataset)}\")\n"
      ],
      "metadata": {
        "id": "HRlsvnIZWHUf"
      },
      "execution_count": null,
      "outputs": []
    },
    {
      "cell_type": "code",
      "source": [
        "print(f\"Length of validation set: {len(val_dataset)}\")\n"
      ],
      "metadata": {
        "id": "chkZ6GDfWKLP"
      },
      "execution_count": null,
      "outputs": []
    },
    {
      "cell_type": "markdown",
      "source": [
        "**Data Visualization**"
      ],
      "metadata": {
        "id": "7BXgg1XyYyBg"
      }
    },
    {
      "cell_type": "markdown",
      "source": [
        "Lets Explore the data. We'll create a visualization to show the breakdown of the two classes. The function below goes through the dataset and counts how many images are in each class."
      ],
      "metadata": {
        "id": "49-qlZgOYSFv"
      }
    },
    {
      "cell_type": "code",
      "source": [
        "def class_counts(dataset):\n",
        "    c = Counter(x[1] for x in tqdm(dataset)) # counts the items, tqdm() shows a progess bar\n",
        "    class_to_index = dataset.dataset.class_to_idx\n",
        "    return pd.Series({cat: c[idx] for cat, idx in class_to_index.items()}) # this ensures that name either blank or hog is return instead of 0 or 1"
      ],
      "metadata": {
        "id": "rclTwZwwY32u"
      },
      "execution_count": null,
      "outputs": []
    },
    {
      "cell_type": "code",
      "source": [
        "train_counts = class_counts(train_dataset)\n",
        "train_counts\n",
        "\n",
        "# output\n",
        "100%\n",
        " 2553/2553 [00:11<00:00, 206.64it/s]\n",
        "blank    1749\n",
        "hog       804\n",
        "dtype: int64"
      ],
      "metadata": {
        "id": "SG_DJCEtY6QI"
      },
      "execution_count": null,
      "outputs": []
    },
    {
      "cell_type": "markdown",
      "source": [
        "**Make a Bar Chart of Train_count**\n",
        "\n",
        "The pandas built-in plotting can make a nice visualization out of it."
      ],
      "metadata": {
        "id": "RXzwaBSxYdnB"
      }
    },
    {
      "cell_type": "code",
      "source": [
        "train_counts.sort_values().plot(kind=\"bar\");"
      ],
      "metadata": {
        "id": "fOugpteGbQzf"
      },
      "execution_count": null,
      "outputs": []
    },
    {
      "cell_type": "markdown",
      "source": [
        "Do same for validation data set"
      ],
      "metadata": {
        "id": "2gf_eXwKbbiu"
      }
    },
    {
      "cell_type": "code",
      "source": [
        "val_counts = class_counts(val_dataset)\n",
        "val_counts"
      ],
      "metadata": {
        "id": "OprfP_u0b4Zo"
      },
      "execution_count": null,
      "outputs": []
    },
    {
      "cell_type": "markdown",
      "source": [
        "Make a Bar Chart for Validation Data"
      ],
      "metadata": {
        "id": "VSKBoK1fb_3X"
      }
    },
    {
      "cell_type": "code",
      "source": [
        "# Make a bar chart from the function output\n",
        "val_counts.sort_values().plot(kind=\"bar\")"
      ],
      "metadata": {
        "id": "OBxTEi9Wp281"
      },
      "execution_count": null,
      "outputs": []
    },
    {
      "cell_type": "markdown",
      "source": [
        "**DataLoader**"
      ],
      "metadata": {
        "id": "ZrTH-KHfqcMN"
      }
    },
    {
      "cell_type": "markdown",
      "source": [
        "The next step is to create DataLoader objects. These objects are iterables that work well with PyTorch when training. We'll use a batch size of 32, which is standard for neural networks. The main difference between the DataLoader for training and validation is that shuffling is turned on for training. Turning on shuffling for the training data randomly rearranges the data after we have gone over all of the batches. Shuffling prevents any particular batch of data from having too much influence on the training."
      ],
      "metadata": {
        "id": "xgrJEf-lqgrs"
      }
    },
    {
      "cell_type": "markdown",
      "source": [
        "Task 1.3.9: Create the train loader, make shuffling on, so that is shuffled each time a batch is taken"
      ],
      "metadata": {
        "id": "LX6zN9anrXVc"
      }
    },
    {
      "cell_type": "code",
      "source": [
        "# Important, don't change this!\n",
        "g = torch.Generator()\n",
        "g.manual_seed(42)\n",
        "\n",
        "batch_size = 32\n",
        "train_loader = DataLoader(train_dataset, batch_size=batch_size, shuffle=True, generator=g)\n"
      ],
      "metadata": {
        "id": "HETNij2Aru3T"
      },
      "execution_count": null,
      "outputs": []
    },
    {
      "cell_type": "markdown",
      "source": [
        "Task 1.3.9: Create the validation loader. Make sure to set shuffling to be off."
      ],
      "metadata": {
        "id": "4PnKhkr3qmtj"
      }
    },
    {
      "cell_type": "code",
      "source": [
        "# Important, don't change this!\n",
        "g = torch.Generator()\n",
        "g.manual_seed(42)\n",
        "\n",
        "batch_size = 32\n",
        "val_loader = DataLoader(val_dataset, batch_size=batch_size, shuffle=False)\n",
        "print(type(val_loader))"
      ],
      "metadata": {
        "id": "EfP4Xf6MrycF"
      },
      "execution_count": null,
      "outputs": []
    },
    {
      "cell_type": "markdown",
      "source": [
        "Now with the DataLoader objects, we'll show they're iterables by using iter and next. There's no need to do this all the time, we're just exploring how PyTorch will make use of the DataLoader objects. iter returns an iterator. This iterator will give us the next value in an iteration.\n",
        "\n",
        "We'll get one sample batch of images and labels and make sure the dimensions match what we expect. One batch of images should be a 4D tensor with dimension [32, 3, 224, 224]. This is because we set the batch to 32, we have RGB images that have 3 color channels, and our images have height 224 and width 224.\n",
        "\n",
        "One batch of labels should be a one dimensional tensor of length 32."
      ],
      "metadata": {
        "id": "fyXuN3_ysvw3"
      }
    },
    {
      "cell_type": "markdown",
      "source": [
        "Task 1.3.10: Print the shape of a batch of images and the shape of a batch of labels."
      ],
      "metadata": {
        "id": "chOJo0WCs0As"
      }
    },
    {
      "cell_type": "code",
      "source": [
        "data_iter = iter(train_loader)\n",
        "images, labels = next(data_iter)\n",
        "\n",
        "# This gives you [batch_size, channels, height, width] for images\n",
        "image_shape = images.shape\n",
        "print(\"Shape of batch of images\", image_shape)\n",
        "\n",
        "# This gives you [batch_size] for labels\n",
        "label_shape = labels.shape\n",
        "print(\"Shape of batch of labels:\", label_shape)\n",
        "\n",
        "# output\n",
        "Shape of batch of images torch.Size([32, 3, 224, 224])\n",
        "Shape of batch of labels: torch.Size([32])\n"
      ],
      "metadata": {
        "id": "8I1TckMys4Ac"
      },
      "execution_count": null,
      "outputs": []
    },
    {
      "cell_type": "markdown",
      "source": [
        "Let's examine the labels tensor to make sure it's nothing but ones and zeros."
      ],
      "metadata": {
        "id": "stspjjqQuOR8"
      }
    },
    {
      "cell_type": "code",
      "source": [
        "labels\n",
        "\n",
        "#output\n",
        "tensor([0, 1, 0, 1, 1, 1, 0, 0, 0, 0, 1, 0, 0, 0, 1, 0, 0, 0, 0, 1, 0, 1, 0, 0,\n",
        "        1, 0, 1, 0, 0, 1, 1, 1])"
      ],
      "metadata": {
        "id": "qSHdpi0HuPu7"
      },
      "execution_count": null,
      "outputs": []
    },
    {
      "cell_type": "code",
      "source": [
        "# the length of the batch\n",
        "len(labels)"
      ],
      "metadata": {
        "id": "1BZIy3KHvoAU"
      },
      "execution_count": null,
      "outputs": []
    },
    {
      "cell_type": "markdown",
      "source": [
        "# Building a Shallow Neural Network"
      ],
      "metadata": {
        "id": "6NrncBqyv0MY"
      }
    },
    {
      "cell_type": "markdown",
      "source": [
        "\n",
        "\n",
        "We're now ready to create our first neural network model. The model will be a shallow fully connected network. It'll not have too many layers, in fact, it'll have four. Here's the architecture:\n",
        "\n",
        "* The input layer\n",
        "* Two hidden layers\n",
        "* The output layer\n",
        "The image below is an example of our architecture. Note, the image shows fewer neurons than what we'll build as it's hard to visualize a model with many neurons. The important part is that we have an input layer, two hidden layers, and two nodes for the output layer.\n",
        "\n",
        "\n",
        "![full_nn_two_hidden_layers.png](data:image/png;base64,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)\n"
      ],
      "metadata": {
        "id": "rIyyUlu_xJpV"
      }
    },
    {
      "cell_type": "markdown",
      "source": [
        "Our input data are images. Each image is a 3D tensor. The shape is 3 x 224 x 224. But there's one problem. This neural network can't accept images in two dimensions. We need to first ***flatten*** the image. As you can imagine, we lose some information when we flatten the image. In a later lesson, we'll see a better neural network architecture at preserving the spatial relational data that is lost when flattening.\n",
        "\n",
        "Let's walk through the flattening process with images. Convenient for us, images is already a PyTorch tensor. In the previous task, we determined that its shape is **32 x 3 x 224 x 224**.\n",
        "\n",
        "The first dimension represents the number of images we have in the batch. If we flatten our images, we should get a tensor of 32 x 150528. Why 150528? It's the product of **3 x 224 x 224**.\n",
        "\n",
        "Each image, instead of being three dimensional, will now just have one dimension."
      ],
      "metadata": {
        "id": "tIhyQUE0zCAr"
      }
    },
    {
      "cell_type": "markdown",
      "source": [
        "**Flattening the Image**"
      ],
      "metadata": {
        "id": "L8XF6IJ_2Dck"
      }
    },
    {
      "cell_type": "markdown",
      "source": [
        "**Task 1.3.11:** Flatten the image and print out the resulting shape of the tensor. Use the nn.Flatten class to flatten."
      ],
      "metadata": {
        "id": "LO-MSwgsx12K"
      }
    },
    {
      "cell_type": "code",
      "source": [
        "flatten = nn.Flatten()\n",
        "tensor_flatten = flatten(images)\n",
        "\n",
        "# Print the shape of the flattened tensor\n",
        "print(f\"Shape of flattened tensor: {tensor_flatten.shape}\")\n",
        "\n",
        "# output\n",
        "Shape of flattened tensor: torch.Size([32, 150528])"
      ],
      "metadata": {
        "id": "UNRq1mdi06Q-"
      },
      "execution_count": null,
      "outputs": []
    },
    {
      "cell_type": "markdown",
      "source": [
        "Flattening the images is the first step or layer of our model. However, it'll be tedious if we have to manually apply all the layers of our network. Instead we'll use the nn.Sequential class from PyTorch. It offers an easy way to define the architecture. As the name suggests, this class takes a sequence of layers and runs the data through them in order."
      ],
      "metadata": {
        "id": "uDkXIIiA1eiO"
      }
    },
    {
      "cell_type": "code",
      "source": [
        "# Image size from our transformer\n",
        "height = 224\n",
        "width = 224\n",
        "\n",
        "model = nn.Sequential(\n",
        "    nn.Flatten(),\n",
        "    nn.Linear(3 * height * width, 512),  # 1 inner layer\n",
        "    nn.ReLU(),\n",
        "    nn.Linear(512, 128),      # 2 inner layer\n",
        "    nn.ReLU(),\n",
        ")\n",
        "\n",
        "# we do not have the out layer yet\n",
        "\n",
        "print(\"model type:\", type(model))\n",
        "print(\"model structure:\")\n",
        "print(model)\n",
        "\n",
        "# output\n",
        "model type: <class 'torch.nn.modules.container.Sequential'>\n",
        "model structure:\n",
        "Sequential(\n",
        "  (0): Flatten(start_dim=1, end_dim=-1)\n",
        "  (1): Linear(in_features=150528, out_features=512, bias=True)\n",
        "  (2): ReLU()\n",
        "  (3): Linear(in_features=512, out_features=128, bias=True)\n",
        "  (4): ReLU()\n",
        ")"
      ],
      "metadata": {
        "id": "QkcRzC512rWF"
      },
      "execution_count": null,
      "outputs": []
    },
    {
      "cell_type": "markdown",
      "source": [
        "Now let's add the last layer needed for the model. That layer is a nn.Linear with an input size of 128 and an output size of 2. Additional layers can be added/appended to a model with model.append."
      ],
      "metadata": {
        "id": "9XhiN3JX1fws"
      }
    },
    {
      "cell_type": "markdown",
      "source": [
        "**Task 1.3.12:** Create the output layer. The last line of the cell below will append it to the model."
      ],
      "metadata": {
        "id": "TzBY00As3ofF"
      }
    },
    {
      "cell_type": "code",
      "source": [
        "output_layer = nn.Linear(128, 2) # No of neurons in the last layer, expected no of output\n",
        "model.append(output_layer)\n",
        "\n",
        "print(model)\n",
        "\n",
        "# output\n",
        "Sequential(\n",
        "  (0): Flatten(start_dim=1, end_dim=-1)\n",
        "  (1): Linear(in_features=150528, out_features=512, bias=True)\n",
        "  (2): ReLU()\n",
        "  (3): Linear(in_features=512, out_features=128, bias=True)\n",
        "  (4): ReLU()\n",
        "  (5): Linear(in_features=128, out_features=2, bias=True)\n",
        ")"
      ],
      "metadata": {
        "id": "SbsjEMhE3luu"
      },
      "execution_count": null,
      "outputs": []
    },
    {
      "cell_type": "markdown",
      "source": [
        "We can see three different types of layers being used:\n",
        "\n",
        "* nn.Flatten flattens the three-dimensional input tensors to the one-dimensional tensors that the next layers expect.\n",
        "* nn.Linear is a standard dense, or fully-connected, layer. It takes two arguments, the number of inputs coming into this layer and the number of outputs produced by this layer.\n",
        "* nn.ReLU performs the rectified linear unit activation. Activation functions are necessary for neural networks to work, and ReLU is a popular choice.\n",
        "\n",
        "The last nn.Linear is our output layer. It must have 128 inputs, to match the output of the preceding layer, and it must have 2 outputs to match the two classes. Note that there's no activation function applied after the output layer. This means that the outputs of this layer are the logits. Later on, these logits will be the input to a normalization function, called softmax in this case, that will turn the logits into probabilities."
      ],
      "metadata": {
        "id": "mHX0weoW4rTk"
      }
    },
    {
      "cell_type": "code",
      "source": [],
      "metadata": {
        "id": "HaoGZWxX3iAG"
      },
      "execution_count": null,
      "outputs": []
    }
  ]
}